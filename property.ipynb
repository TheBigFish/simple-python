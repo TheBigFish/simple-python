{
 "nbformat": 4,
 "nbformat_minor": 2,
 "metadata": {
  "language_info": {
   "name": "python",
   "codemirror_mode": {
    "name": "ipython",
    "version": 3
   },
   "version": "3.6.8"
  },
  "orig_nbformat": 2,
  "file_extension": ".py",
  "mimetype": "text/x-python",
  "name": "python",
  "npconvert_exporter": "python",
  "pygments_lexer": "ipython3",
  "version": 3
 },
 "cells": [
  {
   "cell_type": "code",
   "execution_count": 1,
   "metadata": {},
   "outputs": [],
   "source": [
    "class Property(object):\n",
    "    \"Emulate PyProperty_Type() in Objects/descrobject.c\"\n",
    "\n",
    "    def __init__(self, fget=None, fset=None, fdel=None, doc=None):\n",
    "        self.fget = fget\n",
    "        self.fset = fset\n",
    "        self.fdel = fdel\n",
    "        self.__doc__ = doc\n",
    "\n",
    "    def __get__(self, obj, objtype=None):\n",
    "        if obj is None:\n",
    "            return self\n",
    "        if self.fget is None:\n",
    "            raise AttributeError(\"unreadable attribute\")\n",
    "        return self.fget(obj)\n",
    "\n",
    "    def __set__(self, obj, value):\n",
    "        if self.fset is None:\n",
    "            raise AttributeError(\"can't set attribute\")\n",
    "        self.fset(obj, value)\n",
    "\n",
    "    def __delete__(self, obj):\n",
    "        if self.fdel is None:\n",
    "            raise AttributeError(\"can't delete attribute\")\n",
    "        self.fdel(obj)\n",
    "\n",
    "    def getter(self, fget):\n",
    "        return type(self)(fget, self.fset, self.fdel, self.__doc__)\n",
    "\n",
    "    def setter(self, fset):\n",
    "        return type(self)(self.fget, fset, self.fdel, self.__doc__)\n",
    "\n",
    "    def deleter(self, fdel):\n",
    "        return type(self)(self.fget, self.fset, fdel, self.__doc__)"
   ]
  },
  {
   "cell_type": "code",
   "execution_count": null,
   "metadata": {},
   "outputs": [],
   "source": []
  },
  {
   "cell_type": "code",
   "execution_count": 2,
   "metadata": {},
   "outputs": [],
   "source": [
    "class C(object):\n",
    "    def __init__(self):\n",
    "        self.__x = None\n",
    "    def getx(self): return self.__x\n",
    "    def setx(self, value): self.__x = value\n",
    "    def delx(self): del self.__x\n",
    "    x = Property(getx, setx, delx, \"I'm the 'x' property.\")"
   ]
  },
  {
   "cell_type": "markdown",
   "execution_count": null,
   "metadata": {},
   "outputs": [],
   "source": [
    "描述器可以直接这么调用： d.__get__(obj)\n",
    "然而更常见的情况是描述器在属性访问时被自动调用。举例来说， obj.d 会在 obj 的字典中找 d ,\n",
    "如果 d 定义了 __get__ 方法，那么 d.__get__(obj) 会依据下面的优先规则被调用。\n",
    "调用的细节取决于 obj 是一个类还是一个实例。另外，描述器只对于新式对象和新式类才起作用。继承于 object 的类叫做新式类。\n",
    "对于对象来讲，方法 object.__getattribute__() 把 b.x 变成 type(b).__dict__['x'].__get__(b, type(b)) (x 自身当作self传入)。\n",
    "具体实现是依据这样的优先顺序：资料描述器优先于实例变量，实例变量优先于非资料描述器，__getattr__()方法(如果对象中包含的话)具有最低的优先级。\n",
    "完整的C语言实现可以在 Objects/object.c 中 PyObject_GenericGetAttr() 查看。"
   ]
  },
  {
   "cell_type": "code",
   "execution_count": 3,
   "metadata": {},
   "outputs": [
    {
     "name": "stdout",
     "output_type": "stream",
     "text": "None\n1\n"
    }
   ],
   "source": [
    "c = C()\n",
    "print(c.x)\n",
    "c.x = 1\n",
    "print(c.x)"
   ]
  },
  {
   "cell_type": "markdown",
   "execution_count": null,
   "metadata": {},
   "outputs": [],
   "source": [
    "如果描述符属性名和设置属性同名，会导致嵌套递归：  \n",
    "self.x = num 触发描述符协议，导致 x.__get__() 被调用，从而被注册的 fget 函数调用（self 参数为类 D 的实例），  \n",
    "而该函数实体 self.x = num，将再次导致 触发描述符协议，从而无穷递归。"
   ]
  },
  {
   "cell_type": "code",
   "execution_count": 4,
   "metadata": {},
   "outputs": [
    {
     "name": "stdout",
     "output_type": "stream",
     "text": "RecursionError('maximum recursion depth exceeded while calling a Python object',)\n"
    }
   ],
   "source": [
    "class D:\n",
    "    def __init__(self, num):\n",
    "        self.x = num\n",
    "    @Property\n",
    "    def x(self):\n",
    "        return self.x\n",
    "    @x.setter\n",
    "    def x(self, num):\n",
    "        self.x = num\n",
    "try:\n",
    "    d = D(1)\n",
    "except RecursionError as e:\n",
    "    print(repr(e))"
   ]
  },
  {
   "cell_type": "code",
   "execution_count": null,
   "metadata": {},
   "outputs": [],
   "source": []
  },
  {
   "cell_type": "markdown",
   "execution_count": 29,
   "metadata": {},
   "outputs": [],
   "source": [
    "class D:\n",
    "    def __init__(self, num):\n",
    "        self._x = num\n",
    "    @property\n",
    "    def x(self):\n",
    "        return self._x\n",
    "    @x.setter\n",
    "    def x(self, num):\n",
    "        self._x = num\n",
    "    "
   ]
  },
  {
   "cell_type": "markdown",
   "execution_count": null,
   "metadata": {},
   "outputs": [],
   "source": [
    "修改设置的属性名称可以消除递归调用："
   ]
  },
  {
   "cell_type": "code",
   "execution_count": 5,
   "metadata": {},
   "outputs": [
    {
     "name": "stdout",
     "output_type": "stream",
     "text": "1\n2\nmust greater than 0\n"
    }
   ],
   "source": [
    "class D:\n",
    "    def __init__(self, num):\n",
    "        self._x = num\n",
    "    @Property\n",
    "    def x(self):\n",
    "        return self._x\n",
    "    @x.setter\n",
    "    def x(self, num):\n",
    "        if num < 0 :\n",
    "            raise ValueError(\"must greater than 0\")\n",
    "        self._x = num\n",
    "\n",
    "d = D(1)\n",
    "print(d.x)\n",
    "d.x = 2\n",
    "print(d.x)\n",
    "try:\n",
    "    d.x = -5\n",
    "except ValueError as e:\n",
    "    print(e)"
   ]
  },
  {
   "cell_type": "markdown",
   "execution_count": null,
   "metadata": {},
   "outputs": [],
   "source": [
    "但是，不能防止用户直接访问 _x 属性："
   ]
  },
  {
   "cell_type": "code",
   "execution_count": 6,
   "metadata": {},
   "outputs": [
    {
     "name": "stdout",
     "output_type": "stream",
     "text": "{'_x': 2}\n-5\n{'_x': -5}\n"
    }
   ],
   "source": [
    "print(vars(d))\n",
    "d._x = -5\n",
    "print(d.x)\n",
    "print(vars(d))"
   ]
  },
  {
   "cell_type": "markdown",
   "execution_count": null,
   "metadata": {},
   "outputs": [],
   "source": [
    "## inspired by\n",
    "\n",
    "\n",
    "\n",
    "## copyright\n",
    "\n",
    "author：[bigfish](https://github.com/TheBigFish)  \n",
    "copyright: [许可协议 知识共享署名-非商业性使用 4.0 国际许可协议](https://creativecommons.org/licenses/by-nc/4.0/)"
   ]
  }
 ]
}