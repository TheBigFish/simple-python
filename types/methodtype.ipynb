{
 "nbformat": 4,
 "nbformat_minor": 2,
 "metadata": {
  "language_info": {
   "name": "python",
   "codemirror_mode": {
    "name": "ipython",
    "version": 3
   },
   "version": "3.6.8"
  },
  "orig_nbformat": 2,
  "file_extension": ".py",
  "mimetype": "text/x-python",
  "name": "python",
  "npconvert_exporter": "python",
  "pygments_lexer": "ipython3",
  "version": 3
 },
 "cells": [
  {
   "cell_type": "markdown",
   "execution_count": null,
   "metadata": {},
   "outputs": [],
   "source": [
    "# python functions and methods\n",
    "\n",
    "Function:  \n",
    "1. Function is block of code that is also called by its name. (independent)  \n",
    "2. The function can have different parameters or may not have any at all. If any data  (parameters) are passed, they are passed explicitly.  \n",
    "3. It may or may not return any data.  \n",
    "4. Function does not deal with Class and its instance concept.  \n",
    "\n",
    "Method:  \n",
    "1. Method is called by its name, but it is associated to an object (dependent).  \n",
    "2. A method is implicitly passed the object on which it is invoked.  \n",
    "3. It may or may not return any data.  \n",
    "4. A method can operate on the data (instance variables) that is contained by the corresponding class  \n",
    "\n",
    "Difference between method and function:  \n",
    "1. Simply, function and method both look similar as they perform in almost similar way, but the key difference is the concept of ‘Class and its Object‘.  \n",
    "2. Functions can be called only by its name, as it is defined independently. But methods can’t be called by its name only, we need to invoke the class by a reference of that class in which it is defined, i.e. method is defined within a class and hence they are dependent on that class.\n",
    "\n",
    "\n",
    "\n"
   ]
  },
  {
   "cell_type": "code",
   "execution_count": 1,
   "metadata": {},
   "outputs": [],
   "source": [
    "import types"
   ]
  },
  {
   "cell_type": "code",
   "execution_count": 2,
   "metadata": {},
   "outputs": [],
   "source": [
    "class D:\n",
    "    var = None\n",
    "    def __init__(self, name):\n",
    "        self.name = name\n",
    "        self.msg = None\n",
    "    def f(self):\n",
    "        print(\"f:\" + self.name)"
   ]
  },
  {
   "cell_type": "code",
   "execution_count": 3,
   "metadata": {},
   "outputs": [],
   "source": [
    "def e(self):\n",
    "    print(self.name)"
   ]
  },
  {
   "cell_type": "markdown",
   "execution_count": null,
   "metadata": {},
   "outputs": [],
   "source": [
    "D.f 是一个 function:"
   ]
  },
  {
   "cell_type": "code",
   "execution_count": 4,
   "metadata": {},
   "outputs": [
    {
     "name": "stdout",
     "output_type": "stream",
     "text": "<class 'function'>\n"
    },
    {
     "data": {
      "text/plain": "<function __main__.D.f(self)>"
     },
     "execution_count": 4,
     "metadata": {},
     "output_type": "execute_result"
    }
   ],
   "source": [
    "print(D.f.__class__)\n",
    "D.f"
   ]
  },
  {
   "cell_type": "markdown",
   "execution_count": null,
   "metadata": {},
   "outputs": [],
   "source": [
    "e 是一个 function:"
   ]
  },
  {
   "cell_type": "code",
   "execution_count": 5,
   "metadata": {},
   "outputs": [
    {
     "name": "stdout",
     "output_type": "stream",
     "text": "<class 'function'>\n"
    },
    {
     "data": {
      "text/plain": "<function __main__.e(self)>"
     },
     "execution_count": 5,
     "metadata": {},
     "output_type": "execute_result"
    }
   ],
   "source": [
    "print(type(e))\n",
    "e"
   ]
  },
  {
   "cell_type": "markdown",
   "execution_count": 218,
   "metadata": {},
   "outputs": [
    {
     "ename": "SyntaxError",
     "evalue": "invalid syntax (<ipython-input-218-8c898d3cc564>, line 1)",
     "output_type": "error",
     "traceback": [
      "\u001b[1;36m  File \u001b[1;32m\"<ipython-input-218-8c898d3cc564>\"\u001b[1;36m, line \u001b[1;32m1\u001b[0m\n\u001b[1;33m    d.f 是一个 method:\u001b[0m\n\u001b[1;37m          ^\u001b[0m\n\u001b[1;31mSyntaxError\u001b[0m\u001b[1;31m:\u001b[0m invalid syntax\n"
     ]
    }
   ],
   "source": [
    "d.f 是一个 method:"
   ]
  },
  {
   "cell_type": "code",
   "execution_count": 6,
   "metadata": {},
   "outputs": [
    {
     "name": "stdout",
     "output_type": "stream",
     "text": "<class 'method'>\nf:hello\n"
    }
   ],
   "source": [
    "d = D(\"hello\")\n",
    "print(d.f.__class__)\n",
    "d.f()"
   ]
  },
  {
   "cell_type": "code",
   "execution_count": 7,
   "metadata": {},
   "outputs": [
    {
     "data": {
      "text/plain": "mappingproxy({'__module__': '__main__',\n              'var': None,\n              '__init__': <function __main__.D.__init__(self, name)>,\n              'f': <function __main__.D.f(self)>,\n              '__dict__': <attribute '__dict__' of 'D' objects>,\n              '__weakref__': <attribute '__weakref__' of 'D' objects>,\n              '__doc__': None})"
     },
     "execution_count": 7,
     "metadata": {},
     "output_type": "execute_result"
    }
   ],
   "source": [
    "vars(D)"
   ]
  },
  {
   "cell_type": "markdown",
   "execution_count": 248,
   "metadata": {},
   "outputs": [
    {
     "ename": "SyntaxError",
     "evalue": "invalid character in identifier (<ipython-input-248-05d12bc9e5c6>, line 1)",
     "output_type": "error",
     "traceback": [
      "\u001b[1;36m  File \u001b[1;32m\"<ipython-input-248-05d12bc9e5c6>\"\u001b[1;36m, line \u001b[1;32m1\u001b[0m\n\u001b[1;33m    将function赋给D的属性，等同于在类里面定义function:\u001b[0m\n\u001b[1;37m                                    ^\u001b[0m\n\u001b[1;31mSyntaxError\u001b[0m\u001b[1;31m:\u001b[0m invalid character in identifier\n"
     ]
    }
   ],
   "source": [
    "将function赋给D的属性，等同于在类里面定义function:"
   ]
  },
  {
   "cell_type": "code",
   "execution_count": 8,
   "metadata": {},
   "outputs": [
    {
     "name": "stdout",
     "output_type": "stream",
     "text": "<function e at 0x000002CB0E373950>\n"
    },
    {
     "data": {
      "text/plain": "mappingproxy({'__module__': '__main__',\n              'var': None,\n              '__init__': <function __main__.D.__init__(self, name)>,\n              'f': <function __main__.D.f(self)>,\n              '__dict__': <attribute '__dict__' of 'D' objects>,\n              '__weakref__': <attribute '__weakref__' of 'D' objects>,\n              '__doc__': None,\n              'e': <function __main__.e(self)>})"
     },
     "execution_count": 8,
     "metadata": {},
     "output_type": "execute_result"
    }
   ],
   "source": [
    "D.e = e\n",
    "print(D.e)\n",
    "vars(D)"
   ]
  },
  {
   "cell_type": "markdown",
   "execution_count": null,
   "metadata": {},
   "outputs": [],
   "source": [
    "实例d可以调用方法e,此时，会传入self参数："
   ]
  },
  {
   "cell_type": "code",
   "execution_count": 9,
   "metadata": {},
   "outputs": [
    {
     "name": "stdout",
     "output_type": "stream",
     "text": "hello\n"
    }
   ],
   "source": [
    "d.e()\n"
   ]
  },
  {
   "cell_type": "markdown",
   "execution_count": null,
   "metadata": {},
   "outputs": [],
   "source": [
    "可以看到 e 此时变成了 d 的一个绑定方法，因此调用 d.e 会传入 self"
   ]
  },
  {
   "cell_type": "code",
   "execution_count": 10,
   "metadata": {},
   "outputs": [
    {
     "data": {
      "text/plain": "<bound method e of <__main__.D object at 0x000002CB0E37A7B8>>"
     },
     "execution_count": 10,
     "metadata": {},
     "output_type": "execute_result"
    }
   ],
   "source": [
    "d.e"
   ]
  },
  {
   "cell_type": "markdown",
   "execution_count": null,
   "metadata": {},
   "outputs": [],
   "source": [
    "新建一个 function："
   ]
  },
  {
   "cell_type": "code",
   "execution_count": 11,
   "metadata": {},
   "outputs": [],
   "source": [
    "def g(self, msg):\n",
    "    self.msg = msg\n",
    "    print(str(self) + self.name + \" \" + self.msg)"
   ]
  },
  {
   "cell_type": "markdown",
   "execution_count": null,
   "metadata": {},
   "outputs": [],
   "source": [
    "将普通函数赋给d，不会产生绑定："
   ]
  },
  {
   "cell_type": "code",
   "execution_count": 12,
   "metadata": {},
   "outputs": [
    {
     "data": {
      "text/plain": "{'name': 'hello', 'msg': None, 'g': <function __main__.g(self, msg)>}"
     },
     "execution_count": 12,
     "metadata": {},
     "output_type": "execute_result"
    }
   ],
   "source": [
    "d.g = g\n",
    "vars(d)"
   ]
  },
  {
   "cell_type": "markdown",
   "execution_count": null,
   "metadata": {},
   "outputs": [],
   "source": [
    "调用 g 不会传入self:"
   ]
  },
  {
   "cell_type": "code",
   "execution_count": 13,
   "metadata": {},
   "outputs": [
    {
     "name": "stdout",
     "output_type": "stream",
     "text": "g() missing 1 required positional argument: 'msg'\n"
    }
   ],
   "source": [
    "try:\n",
    "    d.g(\"msg\")\n",
    "except Exception as e:\n",
    "    print(e)"
   ]
  },
  {
   "cell_type": "code",
   "execution_count": 14,
   "metadata": {},
   "outputs": [],
   "source": [
    "del d.g"
   ]
  },
  {
   "cell_type": "markdown",
   "execution_count": null,
   "metadata": {},
   "outputs": [],
   "source": [
    "使用 types.MethodType 将产生一个绑定到对象的method："
   ]
  },
  {
   "cell_type": "code",
   "execution_count": 15,
   "metadata": {},
   "outputs": [
    {
     "data": {
      "text/plain": "<bound method g of <__main__.D object at 0x000002CB0E37A7B8>>"
     },
     "execution_count": 15,
     "metadata": {},
     "output_type": "execute_result"
    }
   ],
   "source": [
    "types.MethodType(g, d)"
   ]
  },
  {
   "cell_type": "markdown",
   "execution_count": null,
   "metadata": {},
   "outputs": [],
   "source": [
    "该绑定方法可以调用，调用时会自动传入绑定的对象当作第一个参数，此处是 d 传给 self："
   ]
  },
  {
   "cell_type": "code",
   "execution_count": 16,
   "metadata": {},
   "outputs": [
    {
     "name": "stdout",
     "output_type": "stream",
     "text": "<__main__.D object at 0x000002CB0E37A7B8>hello msg\n"
    }
   ],
   "source": [
    "types.MethodType(g, d)(\"msg\")"
   ]
  },
  {
   "cell_type": "markdown",
   "execution_count": null,
   "metadata": {},
   "outputs": [],
   "source": [
    "注意，单独调用 types.MethodType，并不会对对象造成影响:"
   ]
  },
  {
   "cell_type": "code",
   "execution_count": 17,
   "metadata": {},
   "outputs": [
    {
     "data": {
      "text/plain": "{'name': 'hello', 'msg': 'msg'}"
     },
     "execution_count": 17,
     "metadata": {},
     "output_type": "execute_result"
    }
   ],
   "source": [
    "vars(d)"
   ]
  },
  {
   "cell_type": "markdown",
   "execution_count": null,
   "metadata": {},
   "outputs": [],
   "source": [
    "所以一般做法是把绑定方法赋值给对象:"
   ]
  },
  {
   "cell_type": "code",
   "execution_count": 18,
   "metadata": {},
   "outputs": [
    {
     "data": {
      "text/plain": "{'name': 'hello',\n 'msg': 'msg',\n 'g': <bound method g of <__main__.D object at 0x000002CB0E37A7B8>>}"
     },
     "execution_count": 18,
     "metadata": {},
     "output_type": "execute_result"
    }
   ],
   "source": [
    "d.g = types.MethodType(g, d)\n",
    "vars(d)"
   ]
  },
  {
   "cell_type": "markdown",
   "execution_count": 587,
   "metadata": {},
   "outputs": [
    {
     "ename": "SyntaxError",
     "evalue": "invalid character in identifier (<ipython-input-587-6d929864f6b4>, line 1)",
     "output_type": "error",
     "traceback": [
      "\u001b[1;36m  File \u001b[1;32m\"<ipython-input-587-6d929864f6b4>\"\u001b[1;36m, line \u001b[1;32m1\u001b[0m\n\u001b[1;33m    此时可以调用该绑定方法：\u001b[0m\n\u001b[1;37m               ^\u001b[0m\n\u001b[1;31mSyntaxError\u001b[0m\u001b[1;31m:\u001b[0m invalid character in identifier\n"
     ]
    }
   ],
   "source": [
    "此时可以调用该绑定方法："
   ]
  },
  {
   "cell_type": "code",
   "execution_count": 19,
   "metadata": {},
   "outputs": [
    {
     "name": "stdout",
     "output_type": "stream",
     "text": "<__main__.D object at 0x000002CB0E37A7B8>hello msg-d\n"
    }
   ],
   "source": [
    "d.g(\"msg-d\")"
   ]
  },
  {
   "cell_type": "markdown",
   "execution_count": null,
   "metadata": {},
   "outputs": [],
   "source": [
    "**注意**  \n",
    "\n",
    "绑定方法会在内部绑定对象，该方法调用时会使用该绑定的对象作为第一个参数（self 或者 cls）  \n",
    "下面可以看到，d.g 和 d1.g 绑定的是同一个对象 d。"
   ]
  },
  {
   "cell_type": "code",
   "execution_count": 20,
   "metadata": {},
   "outputs": [],
   "source": [
    "d1 = D(\"hello\")\n",
    "d1.g = types.MethodType(g, d)\n",
    "d1.g(\"msg-d1\")\n",
    "print(d.msg)"
   ]
  },
  {
   "cell_type": "markdown",
   "execution_count": null,
   "metadata": {},
   "outputs": [],
   "source": [
    "也可以将绑定方法赋值给类："
   ]
  },
  {
   "cell_type": "code",
   "execution_count": 0,
   "metadata": {},
   "outputs": [],
   "source": [
    "def h(cls, data):\n",
    "    cls.var = data\n",
    "    print(str(cls) + str(cls.var))\n",
    "\n",
    "D.h = types.MethodType(h, D)\n",
    "\n",
    "vars(D)"
   ]
  },
  {
   "cell_type": "markdown",
   "execution_count": null,
   "metadata": {},
   "outputs": [],
   "source": [
    "D.h 已经将方法绑定到 D，无论是 d.h 还是 D.h 调用，绑定方法都会将已绑定的 D 传给方法的第一个参数，此处是 cls:"
   ]
  },
  {
   "cell_type": "code",
   "execution_count": 0,
   "metadata": {},
   "outputs": [],
   "source": [
    "d.h(2)\n",
    "D.h(3)\n",
    "print(D.var)"
   ]
  },
  {
   "cell_type": "code",
   "execution_count": null,
   "metadata": {},
   "outputs": [],
   "source": []
  },
  {
   "cell_type": "markdown",
   "execution_count": null,
   "metadata": {},
   "outputs": [],
   "source": [
    "采用 types.MethodType 赋值给对象的方法和在类中定义function的方法不同。  \n",
    "类中定义的函数（比如f)由 Function 创建，Function 类似于一个描述符，拥有一个 __get__ 方法:  \n",
    "```python\n",
    "class Function(object):\n",
    "    . . .\n",
    "    def __get__(self, obj, objtype=None):\n",
    "        \"Simulate func_descr_get() in Objects/funcobject.c\"\n",
    "        if obj is None:\n",
    "            return self\n",
    "        return types.MethodType(self, obj)\n",
    "```\n",
    "这样，在实例调用方法时，d.f，会触发描述符协议，调用 Function 的 `__get__`，返回一个绑定方法 `types.MethodType`"
   ]
  },
  {
   "cell_type": "markdown",
   "execution_count": null,
   "metadata": {},
   "outputs": [],
   "source": [
    "## 总结：\n",
    "1. 将function绑定到实例，使用MethodType，只对当前实例有效，调用时，实例会作为第一个参数传入， self 作用的对象为该绑定实例   \n",
    "2. 将function绑定到类，使用MethodType，调用时，类会作为第一个参数传入，cls 作用的对象为该绑定类  \n",
    "3. 如果需要类的所有实例都有绑定效果，则直接将function赋值给类属性，不需要使用 MethodType 方法。"
   ]
  },
  {
   "cell_type": "code",
   "execution_count": null,
   "metadata": {},
   "outputs": [],
   "source": []
  }
 ]
}